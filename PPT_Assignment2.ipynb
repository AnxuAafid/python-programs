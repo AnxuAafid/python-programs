{
  "nbformat": 4,
  "nbformat_minor": 0,
  "metadata": {
    "colab": {
      "provenance": []
    },
    "kernelspec": {
      "name": "python3",
      "display_name": "Python 3"
    },
    "language_info": {
      "name": "python"
    }
  },
  "cells": [
    {
      "cell_type": "markdown",
      "source": [
        "# 1. Write a Python program to reverse a string without using any built-in string reversal functions."
      ],
      "metadata": {
        "id": "e5wQLr2zXCEk"
      }
    },
    {
      "cell_type": "code",
      "execution_count": 36,
      "metadata": {
        "colab": {
          "base_uri": "https://localhost:8080/"
        },
        "id": "3SlxUjwfW9ja",
        "outputId": "8ccb62ba-a03a-4cdc-d9f6-3372fa7f3fff"
      },
      "outputs": [
        {
          "output_type": "stream",
          "name": "stdout",
          "text": [
            "['m', 'x', 'c', 'd', 'b', 'a']\n"
          ]
        }
      ],
      "source": [
        "def rev(ls):\n",
        "  a = 0\n",
        "  n = len(ls)-1\n",
        "  while a!=n:\n",
        "    # other condition to be use is if a<n\n",
        "    if a+1==n:\n",
        "      break\n",
        "    else:\n",
        "      ls[a],ls[n]=ls[n],ls[a]\n",
        "      a +=1\n",
        "      n -=1\n",
        "  return(ls)\n",
        "\n",
        "ls = ['a','b','c','d','x','m']\n",
        "print(rev(ls))"
      ]
    },
    {
      "cell_type": "code",
      "source": [
        "ls = ['a','b','c','d','x']\n",
        "print(rev(ls))"
      ],
      "metadata": {
        "colab": {
          "base_uri": "https://localhost:8080/"
        },
        "id": "zZVOdbedXyWL",
        "outputId": "27c139e8-44fc-4436-d1d1-a00a29889225"
      },
      "execution_count": 10,
      "outputs": [
        {
          "output_type": "stream",
          "name": "stdout",
          "text": [
            "['x', 'd', 'c', 'b', 'a']\n"
          ]
        }
      ]
    },
    {
      "cell_type": "markdown",
      "source": [
        "# 2. Implement a function to check if a given string is a palindrome."
      ],
      "metadata": {
        "id": "ufMhi8VTZZ0Y"
      }
    },
    {
      "cell_type": "code",
      "source": [
        "def palindrome(strng):\n",
        "   str = ' '.join(char for char in strng)\n",
        "\n",
        "   return str == str[::-1]"
      ],
      "metadata": {
        "id": "H1LtrT_fZWio"
      },
      "execution_count": 31,
      "outputs": []
    },
    {
      "cell_type": "code",
      "source": [
        "palindrome(\"121\"),palindrome(\"fwdsg\")"
      ],
      "metadata": {
        "colab": {
          "base_uri": "https://localhost:8080/"
        },
        "id": "p8YLd651ZqdM",
        "outputId": "ac12473a-404f-4905-b992-2b0cb1245eb7"
      },
      "execution_count": 34,
      "outputs": [
        {
          "output_type": "execute_result",
          "data": {
            "text/plain": [
              "(True, False)"
            ]
          },
          "metadata": {},
          "execution_count": 34
        }
      ]
    },
    {
      "cell_type": "code",
      "source": [
        "def palindrome(st):\n",
        "  str = st.replace('','').lower()\n",
        "  a = 0\n",
        "  l = len(str)-1\n",
        "  flag = 0\n",
        "  while(a<l):\n",
        "    if str[a]!=str[l]:\n",
        "      flag =1\n",
        "      break\n",
        "    a +=1\n",
        "    l-=1\n",
        "  if flag == 0:\n",
        "    print('is Palindrome')\n",
        "  else:\n",
        "    print('Not Palindrome')"
      ],
      "metadata": {
        "id": "MRp4GiRtZwH8"
      },
      "execution_count": 29,
      "outputs": []
    },
    {
      "cell_type": "code",
      "source": [
        "palindrome('121') , palindrome('alpha')"
      ],
      "metadata": {
        "colab": {
          "base_uri": "https://localhost:8080/"
        },
        "id": "rpJDy-X1Z3Cp",
        "outputId": "bcbc5bd0-d7ee-4239-a974-8c6a4b95d537"
      },
      "execution_count": 35,
      "outputs": [
        {
          "output_type": "execute_result",
          "data": {
            "text/plain": [
              "(True, False)"
            ]
          },
          "metadata": {},
          "execution_count": 35
        }
      ]
    },
    {
      "cell_type": "markdown",
      "source": [
        "# 3. Write a program to find the largest element in a given list."
      ],
      "metadata": {
        "id": "qfm4CF4YdvxS"
      }
    },
    {
      "cell_type": "code",
      "source": [
        "def maxi(ls):\n",
        "  print(max(ls))\n",
        "\n",
        "ls = [12.3,45,6,65,768,87]\n",
        "maxi(ls)"
      ],
      "metadata": {
        "colab": {
          "base_uri": "https://localhost:8080/"
        },
        "id": "duoOdoMlaCJC",
        "outputId": "f9d7e7d4-e201-46f3-cd65-b47074943e4d"
      },
      "execution_count": 38,
      "outputs": [
        {
          "output_type": "stream",
          "name": "stdout",
          "text": [
            "768\n"
          ]
        }
      ]
    },
    {
      "cell_type": "code",
      "source": [
        "def maxo(ls):\n",
        "  maxz = 0\n",
        "  for i in range(len(ls)):\n",
        "    if int(ls[i]) > maxz:\n",
        "      maxz = int(ls[i])\n",
        "  return maxz\n"
      ],
      "metadata": {
        "id": "NuvZss7cd515"
      },
      "execution_count": 45,
      "outputs": []
    },
    {
      "cell_type": "code",
      "source": [
        "maxo([12.3,45,6,65,768,87])"
      ],
      "metadata": {
        "colab": {
          "base_uri": "https://localhost:8080/"
        },
        "id": "Cq8vRVAJeCFL",
        "outputId": "45487a24-8c04-4c51-89a2-433a683e353b"
      },
      "execution_count": 46,
      "outputs": [
        {
          "output_type": "execute_result",
          "data": {
            "text/plain": [
              "768"
            ]
          },
          "metadata": {},
          "execution_count": 46
        }
      ]
    },
    {
      "cell_type": "markdown",
      "source": [
        "4. Implement a function to count the occurrence of each element in a list."
      ],
      "metadata": {
        "id": "fprrPqHxe_t5"
      }
    },
    {
      "cell_type": "code",
      "source": [
        "def count(ls):\n",
        "  check =[]\n",
        "  for val in ls:\n",
        "    if val not in check:\n",
        "      check.append(val)\n",
        "      print(f\"{val} occurs {ls.count(val)}\")\n",
        "count([12,22,12,33,22,12,12])"
      ],
      "metadata": {
        "colab": {
          "base_uri": "https://localhost:8080/"
        },
        "id": "C9kN0yQWetih",
        "outputId": "81e1cce3-46b1-4de2-a5ab-e320841822d8"
      },
      "execution_count": 48,
      "outputs": [
        {
          "output_type": "stream",
          "name": "stdout",
          "text": [
            "12 occurs 4\n",
            "22 occurs 2\n",
            "33 occurs 1\n"
          ]
        }
      ]
    },
    {
      "cell_type": "code",
      "source": [
        "def countz(ls):\n",
        "  occ = {}\n",
        "  for ele in ls:\n",
        "    if ele in occ:\n",
        "      occ[ele] +=1\n",
        "    else:\n",
        "      occ[ele] =1\n",
        "  return occ\n",
        "countz([12,22,12,33,22,12,12])\n"
      ],
      "metadata": {
        "colab": {
          "base_uri": "https://localhost:8080/"
        },
        "id": "H66OtvS4fbvT",
        "outputId": "ab197df8-ad99-48a5-99d7-796a3af4714b"
      },
      "execution_count": 49,
      "outputs": [
        {
          "output_type": "execute_result",
          "data": {
            "text/plain": [
              "{12: 4, 22: 2, 33: 1}"
            ]
          },
          "metadata": {},
          "execution_count": 49
        }
      ]
    },
    {
      "cell_type": "markdown",
      "source": [
        "Write a Python program to find the second largest number in a list."
      ],
      "metadata": {
        "id": "cWE5dQ_mhI77"
      }
    },
    {
      "cell_type": "code",
      "source": [
        "def maxo(ls):\n",
        "  max1 , max2 = 0,0\n",
        "  for i in range(len(ls)):\n",
        "    if int(ls[i]) > max1:\n",
        "      max2 = max1\n",
        "      max1= int(ls[i])\n",
        "  return max2\n",
        "\n",
        "maxo([12,43,432,432,432,554,546,667])"
      ],
      "metadata": {
        "colab": {
          "base_uri": "https://localhost:8080/"
        },
        "id": "o_3aXlsYhDiA",
        "outputId": "ff57f99f-ba6a-4d5a-fbfd-bfba1b884cbf"
      },
      "execution_count": 50,
      "outputs": [
        {
          "output_type": "execute_result",
          "data": {
            "text/plain": [
              "554"
            ]
          },
          "metadata": {},
          "execution_count": 50
        }
      ]
    },
    {
      "cell_type": "markdown",
      "source": [
        "Implement a function to remove duplicate elements from a list."
      ],
      "metadata": {
        "id": "ntAhCwSmiMQF"
      }
    },
    {
      "cell_type": "code",
      "source": [
        "def remove_dup(ls):\n",
        "  new = []\n",
        "  for val in ls:\n",
        "    if val not in new:\n",
        "      new.append(val)\n",
        "  return new\n",
        "remove_dup([12,43,432,432,432,554,546,667])\n"
      ],
      "metadata": {
        "colab": {
          "base_uri": "https://localhost:8080/"
        },
        "id": "t9OfDra-hzMc",
        "outputId": "94b0d53d-90ba-427e-ec76-c89f11eac7d3"
      },
      "execution_count": 51,
      "outputs": [
        {
          "output_type": "execute_result",
          "data": {
            "text/plain": [
              "[12, 43, 432, 554, 546, 667]"
            ]
          },
          "metadata": {},
          "execution_count": 51
        }
      ]
    },
    {
      "cell_type": "markdown",
      "source": [
        " Write a program to calculate the factorial of a given number."
      ],
      "metadata": {
        "id": "THGgd-X1i3Jj"
      }
    },
    {
      "cell_type": "code",
      "source": [
        "def facto(n):\n",
        "  fact = 1\n",
        "  if n == 0:\n",
        "    return 1\n",
        "  else:\n",
        "    for i in range(1,n+1):\n",
        "      fact *= i\n",
        "  return fact\n",
        "facto(5)"
      ],
      "metadata": {
        "colab": {
          "base_uri": "https://localhost:8080/"
        },
        "id": "oBpOd5iHioBL",
        "outputId": "e9d5e707-8513-4146-87e2-e34c20212d99"
      },
      "execution_count": 53,
      "outputs": [
        {
          "output_type": "execute_result",
          "data": {
            "text/plain": [
              "120"
            ]
          },
          "metadata": {},
          "execution_count": 53
        }
      ]
    },
    {
      "cell_type": "markdown",
      "source": [
        "# 8. Implement a function to check if a given number is prime.\n"
      ],
      "metadata": {
        "id": "Z1AfaQHzj4qv"
      }
    },
    {
      "cell_type": "code",
      "source": [
        "def chk_prime(num):\n",
        "  flag = 0\n",
        "  for i in range(2, int(num/2)+1):\n",
        "    if num % i == 0:\n",
        "      flag =1\n",
        "      break\n",
        "  if flag ==1:\n",
        "\n",
        "    return \"num is not prime\"\n",
        "  else:\n",
        "    return \" Num is prime\"\n",
        "\n",
        ""
      ],
      "metadata": {
        "id": "RimmwbS1jtju"
      },
      "execution_count": 64,
      "outputs": []
    },
    {
      "cell_type": "code",
      "source": [
        "chk_prime(121),chk_prime(3),chk_prime(12),chk_prime(11) ,chk_prime(123)"
      ],
      "metadata": {
        "colab": {
          "base_uri": "https://localhost:8080/"
        },
        "id": "Rb9B_K54kdo0",
        "outputId": "14d45e91-204a-4f68-82ed-f62f91417519"
      },
      "execution_count": 66,
      "outputs": [
        {
          "output_type": "execute_result",
          "data": {
            "text/plain": [
              "('num is not prime',\n",
              " ' Num is prime',\n",
              " 'num is not prime',\n",
              " ' Num is prime',\n",
              " ' Num is prime',\n",
              " 'num is not prime')"
            ]
          },
          "metadata": {},
          "execution_count": 66
        }
      ]
    },
    {
      "cell_type": "markdown",
      "source": [
        "\n",
        "9. Write a Python program to sort a list of integers in ascending order.\n",
        "\n"
      ],
      "metadata": {
        "id": "wAk4T-YblcyO"
      }
    },
    {
      "cell_type": "code",
      "source": [
        "def sortlst(ls):\n",
        "  #sortedls = sorted(ls)\n",
        "  ls.sort()\n",
        "  return ls\n",
        "sortlst([23,4,56,4,7,2])"
      ],
      "metadata": {
        "colab": {
          "base_uri": "https://localhost:8080/"
        },
        "id": "vy63PhgLkgBw",
        "outputId": "259fdbd1-cb89-4784-f632-cf1b5723f570"
      },
      "execution_count": 75,
      "outputs": [
        {
          "output_type": "execute_result",
          "data": {
            "text/plain": [
              "[2, 4, 4, 7, 23, 56]"
            ]
          },
          "metadata": {},
          "execution_count": 75
        }
      ]
    },
    {
      "cell_type": "markdown",
      "source": [
        "10. Implement a function to find the sum of all numbers in a list."
      ],
      "metadata": {
        "id": "o_nu8G4nne1A"
      }
    },
    {
      "cell_type": "code",
      "source": [
        "def sum_all(ls):\n",
        "  sum = 0\n",
        "  for val in ls:\n",
        "    sum += val\n",
        "  return sum\n",
        "\n",
        "sum_all([23,4,56,4,7,2])\n"
      ],
      "metadata": {
        "colab": {
          "base_uri": "https://localhost:8080/"
        },
        "id": "5ZV_lhwQmEqx",
        "outputId": "bcdbaf3d-c306-418d-c9e0-0e7225e7ff2f"
      },
      "execution_count": 76,
      "outputs": [
        {
          "output_type": "execute_result",
          "data": {
            "text/plain": [
              "96"
            ]
          },
          "metadata": {},
          "execution_count": 76
        }
      ]
    },
    {
      "cell_type": "markdown",
      "source": [
        "11. Write a program to find the common elements between two lists."
      ],
      "metadata": {
        "id": "3N8bpECzn39A"
      }
    },
    {
      "cell_type": "code",
      "source": [
        "def com(ls1,ls2):\n",
        "  ls1 = set(ls1)\n",
        "  ls2 = set(ls2)\n",
        "  return ls1 & ls2\n",
        "list1 = [1, 2, 3, 4, 5]\n",
        "list2 = [4, 5, 6, 7, 8]\n",
        "com(list1,list2)"
      ],
      "metadata": {
        "colab": {
          "base_uri": "https://localhost:8080/"
        },
        "id": "Rmi_QJvtnu1_",
        "outputId": "4847e02f-aa3b-4f7e-da05-36fab23740ac"
      },
      "execution_count": 80,
      "outputs": [
        {
          "output_type": "execute_result",
          "data": {
            "text/plain": [
              "{4, 5}"
            ]
          },
          "metadata": {},
          "execution_count": 80
        }
      ]
    },
    {
      "cell_type": "code",
      "source": [
        "def com_2_way(ls1,ls2):\n",
        "  com_ls = []\n",
        "  for val in ls1:\n",
        "    if val in ls2:\n",
        "      com_ls.append(val)\n",
        "\n",
        "  return com_ls\n",
        "list1 = [1, 2, 3, 4, 5]\n",
        "list2 = [4, 5, 6, 7, 8]\n",
        "com_2_way(list1,list2)"
      ],
      "metadata": {
        "colab": {
          "base_uri": "https://localhost:8080/"
        },
        "id": "Y3SIzkMWoNtg",
        "outputId": "b7a4b5ff-6c4c-4a16-a14a-e1240fa31ad4"
      },
      "execution_count": 82,
      "outputs": [
        {
          "output_type": "execute_result",
          "data": {
            "text/plain": [
              "[4, 5]"
            ]
          },
          "metadata": {},
          "execution_count": 82
        }
      ]
    },
    {
      "cell_type": "markdown",
      "source": [
        "12. Implement a function to check if a given string is an anagram of another string."
      ],
      "metadata": {
        "id": "fQQyLlwbpFV-"
      }
    },
    {
      "cell_type": "code",
      "source": [
        "def ang(st1,st2):\n",
        "  st1 = st1.replace(\" \",\"\").lower() # remove space if present and make lower case\n",
        "  st2 = st2.replace(\" \",\"\").lower()\n",
        "  if sorted(st1) == sorted(st2):\n",
        "    return True\n",
        "  else:\n",
        "    return False\n",
        "\n",
        "\n",
        "string1 = \"listen\"\n",
        "string2 = \"silent\"\n",
        "ang(string1, string2)\n"
      ],
      "metadata": {
        "colab": {
          "base_uri": "https://localhost:8080/"
        },
        "id": "yrGFAikWpBko",
        "outputId": "9dee20e5-768e-4ff6-a36b-21642f5dfd86"
      },
      "execution_count": 85,
      "outputs": [
        {
          "output_type": "execute_result",
          "data": {
            "text/plain": [
              "True"
            ]
          },
          "metadata": {},
          "execution_count": 85
        }
      ]
    },
    {
      "cell_type": "code",
      "source": [
        "string1 = \"lien\"\n",
        "string2 = \"silent\"\n",
        "ang(string1, string2)"
      ],
      "metadata": {
        "colab": {
          "base_uri": "https://localhost:8080/"
        },
        "id": "CwvUU4IEqSY2",
        "outputId": "0a111426-b062-4c8a-bec2-ca6ec3ee5c4f"
      },
      "execution_count": 86,
      "outputs": [
        {
          "output_type": "execute_result",
          "data": {
            "text/plain": [
              "False"
            ]
          },
          "metadata": {},
          "execution_count": 86
        }
      ]
    },
    {
      "cell_type": "markdown",
      "source": [
        "13. Write a Python program to generate all permutations of a given string."
      ],
      "metadata": {
        "id": "ug2G0EVBq03-"
      }
    },
    {
      "cell_type": "code",
      "source": [
        "def generate_permutations(string):\n",
        "    if len(string) <= 1:\n",
        "        return [string]\n",
        "    permutations = []\n",
        "\n",
        "    for i in range(len(string)):\n",
        "\n",
        "        current_char = string[i]\n",
        "\n",
        "        remaining_chars = string[:i] + string[i+1:]\n",
        "        sub_permutations = generate_permutations(remaining_chars)\n",
        "\n",
        "        # Append the current character to each sub-permutation\n",
        "        for sub_permutation in sub_permutations:\n",
        "            permutations.append(current_char + sub_permutation)\n",
        "\n",
        "    return permutations\n",
        "\n",
        "# Example usage\n",
        "input_string = \"abc\"\n",
        "permutations = generate_permutations(input_string)\n",
        "print(\"Permutations of\", input_string, \"are:\")\n",
        "for permutation in permutations:\n",
        "    print(permutation)\n"
      ],
      "metadata": {
        "colab": {
          "base_uri": "https://localhost:8080/"
        },
        "id": "HsyHqf2hqwVp",
        "outputId": "2335eff3-b64b-432f-b4a7-2861d6d59456"
      },
      "execution_count": 87,
      "outputs": [
        {
          "output_type": "stream",
          "name": "stdout",
          "text": [
            "Permutations of abc are:\n",
            "abc\n",
            "acb\n",
            "bac\n",
            "bca\n",
            "cab\n",
            "cba\n"
          ]
        }
      ]
    },
    {
      "cell_type": "markdown",
      "source": [
        "14. Implement a function to calculate the Fibonacci sequence up to a given number of terms."
      ],
      "metadata": {
        "id": "eAjCxKqXrm6u"
      }
    },
    {
      "cell_type": "code",
      "source": [
        "def fib(a,b,limit):\n",
        "  if limit ==0:\n",
        "    return\n",
        "  else:\n",
        "    c = a+b\n",
        "    print(c,end=' ')\n",
        "    fib(b,c,limit-1)\n",
        ""
      ],
      "metadata": {
        "id": "nbIhKCJ4rX49"
      },
      "execution_count": 103,
      "outputs": []
    },
    {
      "cell_type": "code",
      "source": [
        "fib(int(input(\"enter two initial numbers \")), int(input()), int(input('Enter the limit')))"
      ],
      "metadata": {
        "colab": {
          "base_uri": "https://localhost:8080/"
        },
        "id": "ep5gwAncsRVM",
        "outputId": "249570f7-2931-4280-b6c1-d1784ee558a9"
      },
      "execution_count": 104,
      "outputs": [
        {
          "output_type": "stream",
          "name": "stdout",
          "text": [
            "enter two initial numbers 1\n",
            "1\n",
            "Enter the limit5\n",
            "2 3 5 8 13 "
          ]
        }
      ]
    },
    {
      "cell_type": "code",
      "source": [
        "def Fibonacci(a,b,n,ls):\n",
        "  if len(ls)==0:\n",
        "    ls.append(a)\n",
        "    ls.append(b)\n",
        "    ls.append(a+b)\n",
        "    Fibonacci(b,a+b,n-1,ls)\n",
        "  else:\n",
        "\n",
        "    if n!=0:\n",
        "      ls.append(a+b)\n",
        "      n -= 1\n",
        "      Fibonacci(b,a+b,n,ls)\n",
        "  return ls\n",
        ""
      ],
      "metadata": {
        "id": "7UVyyo8Rshq2"
      },
      "execution_count": 23,
      "outputs": []
    },
    {
      "cell_type": "code",
      "source": [
        "Fibonacci(1,1,4,[])"
      ],
      "metadata": {
        "colab": {
          "base_uri": "https://localhost:8080/"
        },
        "id": "_kCcFLsSv-5j",
        "outputId": "99847733-2a7f-4e7d-8425-6e5a5450ef3a"
      },
      "execution_count": 24,
      "outputs": [
        {
          "output_type": "execute_result",
          "data": {
            "text/plain": [
              "[1, 1, 2, 3, 5, 8]"
            ]
          },
          "metadata": {},
          "execution_count": 24
        }
      ]
    },
    {
      "cell_type": "markdown",
      "source": [
        "15. Write a program to find the median of a list of numbers."
      ],
      "metadata": {
        "id": "H7DhuqWMctQE"
      }
    },
    {
      "cell_type": "code",
      "source": [
        "def med(ls):\n",
        "  if len(ls)%2==0:\n",
        "    return (ls[len(ls)//2] + ls[(len(ls)//2)-1])/2\n",
        "  else:\n",
        "    return ls[len(ls)//2]\n",
        "\n",
        "med([1,2,3,4,5,]),med([1,2,3,4,5,23])"
      ],
      "metadata": {
        "colab": {
          "base_uri": "https://localhost:8080/"
        },
        "id": "MTvuDVbqxBcL",
        "outputId": "015a6792-1497-462a-bc91-be99145df913"
      },
      "execution_count": 37,
      "outputs": [
        {
          "output_type": "execute_result",
          "data": {
            "text/plain": [
              "(3, 3.5)"
            ]
          },
          "metadata": {},
          "execution_count": 37
        }
      ]
    },
    {
      "cell_type": "markdown",
      "source": [
        "16. Implement a function to check if a given list is sorted in non-decreasing order."
      ],
      "metadata": {
        "id": "DkOMWjUbdbuF"
      }
    },
    {
      "cell_type": "code",
      "source": [
        "def dec(ls):\n",
        "  for i in range(len(ls)):\n",
        "    if ls[i]<=ls[i+1] and i+1 < len(ls)-1:\n",
        "      pass\n",
        "    else:\n",
        "      if i+1 == len(ls)-1:\n",
        "        return True\n",
        "      else:\n",
        "        return False\n",
        "  return True\n",
        "\n",
        "dec([1,2,3,84,5,5]),dec([1,2,3,4,5,5])\n"
      ],
      "metadata": {
        "colab": {
          "base_uri": "https://localhost:8080/"
        },
        "id": "dqv8cSUMdOZF",
        "outputId": "ad55852f-952e-42cf-c569-440e6b411bee"
      },
      "execution_count": 44,
      "outputs": [
        {
          "output_type": "execute_result",
          "data": {
            "text/plain": [
              "(False, True)"
            ]
          },
          "metadata": {},
          "execution_count": 44
        }
      ]
    },
    {
      "cell_type": "markdown",
      "source": [
        "17. Write a Python program to find the intersection of two lists."
      ],
      "metadata": {
        "id": "fnI1CPvBg9_J"
      }
    },
    {
      "cell_type": "code",
      "source": [
        "def com(ls1,ls2):\n",
        "  ls1 = set(ls1)\n",
        "  ls2 = set(ls2)\n",
        "  return ls1 & ls2\n",
        "list1 = [1, 2, 3, 4, 5]\n",
        "list2 = [4, 5, 6, 7, 8]\n",
        "com(list1,list2)"
      ],
      "metadata": {
        "colab": {
          "base_uri": "https://localhost:8080/"
        },
        "id": "2XI-Nq79eKfj",
        "outputId": "e1fcd65c-b1e9-40fe-9e3e-5887a4c56a75"
      },
      "execution_count": 45,
      "outputs": [
        {
          "output_type": "execute_result",
          "data": {
            "text/plain": [
              "{4, 5}"
            ]
          },
          "metadata": {},
          "execution_count": 45
        }
      ]
    },
    {
      "cell_type": "markdown",
      "source": [
        "18. Implement a function to find the maximum subarray sum in a given list."
      ],
      "metadata": {
        "id": "DOSwWguLhSEV"
      }
    },
    {
      "cell_type": "code",
      "source": [
        "def max_subarray_sum(lst):\n",
        "    current_sum = lst[0]\n",
        "    max_sum = lst[0]\n",
        "\n",
        "    for num in lst[1:]:\n",
        "        current_sum = max(num, current_sum + num)\n",
        "        max_sum = max(max_sum, current_sum)\n",
        "\n",
        "    return max_sum\n",
        "max_subarray_sum([-2, 1, -3, 4, -1, 2, 1, -5, 4])"
      ],
      "metadata": {
        "colab": {
          "base_uri": "https://localhost:8080/"
        },
        "id": "s1DrwDnnhMXa",
        "outputId": "a46aea08-764f-4c8b-bd3b-6cdd4397cc31"
      },
      "execution_count": 46,
      "outputs": [
        {
          "output_type": "execute_result",
          "data": {
            "text/plain": [
              "6"
            ]
          },
          "metadata": {},
          "execution_count": 46
        }
      ]
    },
    {
      "cell_type": "markdown",
      "source": [
        "19. Write a program to remove all vowels from a given string."
      ],
      "metadata": {
        "id": "gohLsyTBiJtH"
      }
    },
    {
      "cell_type": "code",
      "source": [
        "def r_vowels(strng):\n",
        "  vowels =['a','e','i','o','u']\n",
        "  op =''\n",
        "  for v in strng:\n",
        "    if v not in vowels:\n",
        "      op += v\n",
        "  return op\n",
        "\n",
        "r_vowels(\"awefigo\")\n"
      ],
      "metadata": {
        "colab": {
          "base_uri": "https://localhost:8080/",
          "height": 36
        },
        "id": "NMPiDtWjiFZL",
        "outputId": "1284028b-6ce5-4a17-a61e-83ebaaa01a2e"
      },
      "execution_count": 48,
      "outputs": [
        {
          "output_type": "execute_result",
          "data": {
            "text/plain": [
              "'wfg'"
            ],
            "application/vnd.google.colaboratory.intrinsic+json": {
              "type": "string"
            }
          },
          "metadata": {},
          "execution_count": 48
        }
      ]
    },
    {
      "cell_type": "markdown",
      "source": [
        "20. Implement a function to reverse the order of words in a given sentence."
      ],
      "metadata": {
        "id": "Dxj2LKSKi5_r"
      }
    },
    {
      "cell_type": "code",
      "source": [
        "def reverse_words(sentence):\n",
        "    words = sentence.split()\n",
        "    reversed_sentence = ' '.join(reversed(words))\n",
        "    return reversed_sentence\n",
        "reverse_words(\"Implement a function to reverse the order of words in a given sentence.\")"
      ],
      "metadata": {
        "colab": {
          "base_uri": "https://localhost:8080/",
          "height": 36
        },
        "id": "eY-NwvCHixM2",
        "outputId": "e7cc9083-fedf-4dc1-ef70-be4e44b4dd5c"
      },
      "execution_count": 49,
      "outputs": [
        {
          "output_type": "execute_result",
          "data": {
            "text/plain": [
              "'sentence. given a in words of order the reverse to function a Implement'"
            ],
            "application/vnd.google.colaboratory.intrinsic+json": {
              "type": "string"
            }
          },
          "metadata": {},
          "execution_count": 49
        }
      ]
    },
    {
      "cell_type": "markdown",
      "source": [
        "21. Write a Python program to check if two strings are anagrams of each other."
      ],
      "metadata": {
        "id": "yrnSmKJ5jSeD"
      }
    },
    {
      "cell_type": "code",
      "source": [
        "def ang(st1,st2):\n",
        "\n",
        "  if sorted(st1) == sorted(st2):\n",
        "    return True\n",
        "  else:\n",
        "    return False\n",
        "\n",
        "\n",
        "string1 = \"listen\"\n",
        "string2 = \"silent\"\n",
        "ang(string1, string2)"
      ],
      "metadata": {
        "colab": {
          "base_uri": "https://localhost:8080/"
        },
        "id": "XSXtKNQijLog",
        "outputId": "6b8ecdb0-18bf-45c3-b14e-6e8a8f05cf97"
      },
      "execution_count": 50,
      "outputs": [
        {
          "output_type": "execute_result",
          "data": {
            "text/plain": [
              "True"
            ]
          },
          "metadata": {},
          "execution_count": 50
        }
      ]
    },
    {
      "cell_type": "markdown",
      "source": [
        "22. Implement a function to find the first non-repeating character in a string."
      ],
      "metadata": {
        "id": "7ejWyZbajjQ7"
      }
    },
    {
      "cell_type": "code",
      "source": [
        "def non_repeat(strng):\n",
        "  ck = {}\n",
        "  for v in strng:\n",
        "     if v in ck:\n",
        "      ck[v] += 1\n",
        "     else:\n",
        "       ck[v] = 1\n",
        "\n",
        "  for ele in ck:\n",
        "    if ck[ele]<2:\n",
        "      print(\"first Non-Repeating num is \", ele)\n",
        "      break\n",
        "non_repeat('repeating')"
      ],
      "metadata": {
        "colab": {
          "base_uri": "https://localhost:8080/"
        },
        "id": "CuO9hA70jeud",
        "outputId": "0f15739a-35b8-4ede-f348-d40a84a25631"
      },
      "execution_count": 55,
      "outputs": [
        {
          "output_type": "stream",
          "name": "stdout",
          "text": [
            "first Non-Repeating num is  r\n"
          ]
        }
      ]
    },
    {
      "cell_type": "markdown",
      "source": [
        "23. Write a program to find the prime factors of a given number."
      ],
      "metadata": {
        "id": "Sz5CxJp0lTF1"
      }
    },
    {
      "cell_type": "code",
      "source": [
        "def prime_factors(n):\n",
        "    factors = []\n",
        "    i = 2\n",
        "\n",
        "    while i * i <= n:\n",
        "        if n % i:\n",
        "            i += 1\n",
        "        else:\n",
        "            n //= i\n",
        "            factors.append(i)\n",
        "\n",
        "    if n > 1:\n",
        "        factors.append(n)\n",
        "\n",
        "    return factors\n",
        "print(prime_factors(89))\n",
        "print(prime_factors(82),)\n",
        "print(prime_factors(56))"
      ],
      "metadata": {
        "colab": {
          "base_uri": "https://localhost:8080/"
        },
        "id": "QnHBmu8tkzcL",
        "outputId": "45ee34d1-c8f0-4cfc-9b2a-fb2cad265a48"
      },
      "execution_count": 61,
      "outputs": [
        {
          "output_type": "stream",
          "name": "stdout",
          "text": [
            "[89]\n",
            "[2, 41]\n",
            "[2, 2, 2, 7]\n"
          ]
        }
      ]
    },
    {
      "cell_type": "markdown",
      "source": [
        "25. Write a Python program to merge two sorted lists into a single sorted list."
      ],
      "metadata": {
        "id": "qb5Eh2a5mP3U"
      }
    },
    {
      "cell_type": "code",
      "source": [
        "def merge(ls1,ls2):\n",
        "\n",
        "  sorted_list =[]\n",
        "  while ls1 and ls2:\n",
        "      if ls1[0] <  ls2[0]:\n",
        "          sorted_list.append(ls1.pop(0))\n",
        "      else:\n",
        "          sorted_list.append(ls2.pop(0))\n",
        "  sorted_list += ls1\n",
        "  sorted_list += ls2\n",
        "  return sorted_list\n",
        "l = [1,2,4,6,7,98]\n",
        "s = [4,8,20, 52 ]\n",
        "merge(l,s)"
      ],
      "metadata": {
        "colab": {
          "base_uri": "https://localhost:8080/"
        },
        "id": "m2pv2uyylqrr",
        "outputId": "477c08ea-22c6-47cd-97f4-9caad1cd943a"
      },
      "execution_count": 103,
      "outputs": [
        {
          "output_type": "execute_result",
          "data": {
            "text/plain": [
              "[1, 2, 4, 4, 6, 7, 8, 20, 52, 98]"
            ]
          },
          "metadata": {},
          "execution_count": 103
        }
      ]
    },
    {
      "cell_type": "markdown",
      "source": [
        "26. Implement a function to find the mode of a list of numbers."
      ],
      "metadata": {
        "id": "NLIJeh9Wrlrd"
      }
    },
    {
      "cell_type": "code",
      "source": [
        "def mode(ls):\n",
        "  mode = {}\n",
        "  for ele in ls:\n",
        "    if ele in mode:\n",
        "      mode[ele] +=1\n",
        "    else:\n",
        "      mode[ele] = 1\n",
        "  md = 0\n",
        "  val=0\n",
        "  for ele in mode:\n",
        "    if mode[ele]>md:\n",
        "      val , md = ele,mode[ele]\n",
        "  return (\"mode is \" , val)\n",
        "mode([1,2,332,44,3,3,2,3,2,32,3,2,32,3])"
      ],
      "metadata": {
        "colab": {
          "base_uri": "https://localhost:8080/"
        },
        "id": "Of_oHPI9o0By",
        "outputId": "feb4e7c7-f905-4f71-b99f-e6acf17903de"
      },
      "execution_count": 105,
      "outputs": [
        {
          "output_type": "execute_result",
          "data": {
            "text/plain": [
              "('mode is ', 3)"
            ]
          },
          "metadata": {},
          "execution_count": 105
        }
      ]
    },
    {
      "cell_type": "code",
      "source": [
        "from collections import Counter\n",
        "\n",
        "def find_mode(lst):\n",
        "    counter = Counter(lst)\n",
        "    max_count = max(counter.values())\n",
        "    modes = [num for num, count in counter.items() if count == max_count]\n",
        "    return modes\n",
        "\n",
        "find_mode([1,2,332,44,3,3,2,3,2,32,3,2,32,3])"
      ],
      "metadata": {
        "colab": {
          "base_uri": "https://localhost:8080/"
        },
        "id": "X1dCXwvmsl_Y",
        "outputId": "8cc752c9-796d-45f6-a7e8-ee875c08942a"
      },
      "execution_count": 106,
      "outputs": [
        {
          "output_type": "execute_result",
          "data": {
            "text/plain": [
              "[3]"
            ]
          },
          "metadata": {},
          "execution_count": 106
        }
      ]
    },
    {
      "cell_type": "markdown",
      "source": [
        "27. Write a program to find the greatest common divisor (GCD) of two numbers."
      ],
      "metadata": {
        "id": "tmsNk-GIs24Y"
      }
    },
    {
      "cell_type": "code",
      "source": [
        "def gcd(a, b):\n",
        "    while b != 0:\n",
        "        a, b = b, a % b\n",
        "    return a\n",
        "gcd(20,12)"
      ],
      "metadata": {
        "colab": {
          "base_uri": "https://localhost:8080/"
        },
        "id": "ANC8VeF0szj_",
        "outputId": "b10cd8da-2f01-4fe1-eb9d-c8c469540173"
      },
      "execution_count": 107,
      "outputs": [
        {
          "output_type": "execute_result",
          "data": {
            "text/plain": [
              "4"
            ]
          },
          "metadata": {},
          "execution_count": 107
        }
      ]
    },
    {
      "cell_type": "code",
      "source": [
        "gcd(36,12)"
      ],
      "metadata": {
        "colab": {
          "base_uri": "https://localhost:8080/"
        },
        "id": "GsSm1oc-tFBP",
        "outputId": "93f588ca-7c94-42dc-d47b-6e632fb91633"
      },
      "execution_count": 108,
      "outputs": [
        {
          "output_type": "execute_result",
          "data": {
            "text/plain": [
              "12"
            ]
          },
          "metadata": {},
          "execution_count": 108
        }
      ]
    },
    {
      "cell_type": "markdown",
      "source": [
        "28. Implement a function to calculate the square root of a given number."
      ],
      "metadata": {
        "id": "la5h-I_dtNn1"
      }
    },
    {
      "cell_type": "code",
      "source": [
        "def sqrt(num):\n",
        "  if num<0:\n",
        "    return \"ERROR negative value\"\n",
        "  else:\n",
        "    return num**0.5\n",
        "sqrt(int(input(\"Enter the num \")))"
      ],
      "metadata": {
        "colab": {
          "base_uri": "https://localhost:8080/",
          "height": 53
        },
        "id": "XLDMe6IktJfd",
        "outputId": "6aca2279-ef3f-4b06-c822-4da166fcd85a"
      },
      "execution_count": 112,
      "outputs": [
        {
          "name": "stdout",
          "output_type": "stream",
          "text": [
            "Enter the num -9\n"
          ]
        },
        {
          "output_type": "execute_result",
          "data": {
            "text/plain": [
              "'ERROR negative value'"
            ],
            "application/vnd.google.colaboratory.intrinsic+json": {
              "type": "string"
            }
          },
          "metadata": {},
          "execution_count": 112
        }
      ]
    },
    {
      "cell_type": "code",
      "source": [
        "sqrt(int(input(\"Enter the num \")))"
      ],
      "metadata": {
        "colab": {
          "base_uri": "https://localhost:8080/"
        },
        "id": "g2QMVkR_tfI9",
        "outputId": "ccce04ec-0699-43e4-ce7d-ddb81e754337"
      },
      "execution_count": 113,
      "outputs": [
        {
          "name": "stdout",
          "output_type": "stream",
          "text": [
            "Enter the num 16\n"
          ]
        },
        {
          "output_type": "execute_result",
          "data": {
            "text/plain": [
              "4.0"
            ]
          },
          "metadata": {},
          "execution_count": 113
        }
      ]
    },
    {
      "cell_type": "markdown",
      "source": [
        "29. Write a Python program to check if a given string is a valid palindrome ignoring non-alphanumeric characters.\n"
      ],
      "metadata": {
        "id": "IxFmH27QuGGn"
      }
    },
    {
      "cell_type": "code",
      "source": [
        "import re\n",
        "def palindrome(strng):\n",
        "\n",
        "  strng = re.sub(r'[^a-zA-Z0-9]', '', strng).lower()\n",
        "  print(\"original one \",strng)\n",
        "  print(\"reverse one \",strng[::-1])\n",
        "  return strng == strng[::-1]\n",
        "\n",
        "palindrome('A man, a plan, a canal: Panama')"
      ],
      "metadata": {
        "colab": {
          "base_uri": "https://localhost:8080/"
        },
        "id": "vPaMW2Wjt_dv",
        "outputId": "303c106a-866a-48bf-bab6-f61caddf2e8c"
      },
      "execution_count": 116,
      "outputs": [
        {
          "output_type": "stream",
          "name": "stdout",
          "text": [
            "original one  amanaplanacanalpanama\n",
            "reverse one  amanaplanacanalpanama\n"
          ]
        },
        {
          "output_type": "execute_result",
          "data": {
            "text/plain": [
              "True"
            ]
          },
          "metadata": {},
          "execution_count": 116
        }
      ]
    },
    {
      "cell_type": "markdown",
      "source": [
        "\n",
        "30. Implement a function to find the minimum element in a rotated sorted list.\n"
      ],
      "metadata": {
        "id": "uL1G6KY-wUrq"
      }
    },
    {
      "cell_type": "code",
      "source": [
        "def mino(ls):\n",
        "  for i in range(len(ls)-1):\n",
        "    if ls[i+1]<ls[i]:\n",
        "      return ls[i+1]\n",
        "mino([15, 18, 2, 3, 6, 12])"
      ],
      "metadata": {
        "colab": {
          "base_uri": "https://localhost:8080/"
        },
        "id": "SedMIFgrv0Rn",
        "outputId": "87d06b7e-2f67-4098-a264-815edef010f0"
      },
      "execution_count": 117,
      "outputs": [
        {
          "output_type": "execute_result",
          "data": {
            "text/plain": [
              "2"
            ]
          },
          "metadata": {},
          "execution_count": 117
        }
      ]
    },
    {
      "cell_type": "markdown",
      "source": [
        "31. Write a program to find the sum of all even numbers in a list."
      ],
      "metadata": {
        "id": "xThvEHeOyRny"
      }
    },
    {
      "cell_type": "code",
      "source": [
        "def sumz(ls):\n",
        "  return sum(ls)\n",
        "sumz([15, 18, 2, 3, 6, 12])"
      ],
      "metadata": {
        "colab": {
          "base_uri": "https://localhost:8080/"
        },
        "id": "rhaslC7gyNfO",
        "outputId": "5a66c7f6-bad7-4047-9a29-f52f8917929d"
      },
      "execution_count": 118,
      "outputs": [
        {
          "output_type": "execute_result",
          "data": {
            "text/plain": [
              "56"
            ]
          },
          "metadata": {},
          "execution_count": 118
        }
      ]
    },
    {
      "cell_type": "code",
      "source": [
        "def sumz(ls):\n",
        "  sum =0\n",
        "  for v in ls:\n",
        "    if type(v) == int or type(v)==float:\n",
        "      sum +=v\n",
        "  return sum"
      ],
      "metadata": {
        "id": "9b_3nexiya04"
      },
      "execution_count": 119,
      "outputs": []
    },
    {
      "cell_type": "code",
      "source": [
        "sumz([1.2,3,4,5,'r'])"
      ],
      "metadata": {
        "colab": {
          "base_uri": "https://localhost:8080/"
        },
        "id": "ysybL_hzy93L",
        "outputId": "5137cd38-b02e-456d-ba05-98feb48f8692"
      },
      "execution_count": 120,
      "outputs": [
        {
          "output_type": "execute_result",
          "data": {
            "text/plain": [
              "13.2"
            ]
          },
          "metadata": {},
          "execution_count": 120
        }
      ]
    },
    {
      "cell_type": "markdown",
      "source": [
        "32. Implement a function to calculate the power of a number using recursion."
      ],
      "metadata": {
        "id": "f9HSQbwFzI76"
      }
    },
    {
      "cell_type": "code",
      "source": [
        "def pow(num,pw):\n",
        "  if pw ==0:\n",
        "    return 1\n",
        "  else:\n",
        "    return num * pow(num,pw-1)\n",
        "pow(2,4)"
      ],
      "metadata": {
        "colab": {
          "base_uri": "https://localhost:8080/"
        },
        "id": "xsve136xzC-r",
        "outputId": "88543553-9b17-4c8f-f74c-825b7e5306bd"
      },
      "execution_count": 128,
      "outputs": [
        {
          "output_type": "execute_result",
          "data": {
            "text/plain": [
              "16"
            ]
          },
          "metadata": {},
          "execution_count": 128
        }
      ]
    },
    {
      "cell_type": "markdown",
      "source": [
        "33. Write a Python program to remove duplicates from a list while preserving the order."
      ],
      "metadata": {
        "id": "acIctyO20k9z"
      }
    },
    {
      "cell_type": "code",
      "source": [
        "def remove_duplicates(lst):\n",
        "    unique_list = []\n",
        "\n",
        "    for item in lst:\n",
        "        if item not in unique_list:\n",
        "            unique_list.append(item)\n",
        "\n",
        "    return unique_list\n",
        "remove_duplicates([5,2,3,4,3,4,5,6,7,8])"
      ],
      "metadata": {
        "colab": {
          "base_uri": "https://localhost:8080/"
        },
        "id": "6Zky94cIzanE",
        "outputId": "d9421a52-443c-44ea-f761-2c067b263cb2"
      },
      "execution_count": 132,
      "outputs": [
        {
          "output_type": "execute_result",
          "data": {
            "text/plain": [
              "[5, 2, 3, 4, 6, 7, 8]"
            ]
          },
          "metadata": {},
          "execution_count": 132
        }
      ]
    },
    {
      "cell_type": "markdown",
      "source": [
        "34. Implement a function to find the longest common prefix among a list of strings."
      ],
      "metadata": {
        "id": "LYw3a24F4WMy"
      }
    },
    {
      "cell_type": "code",
      "source": [
        "def longest_common_prefix(strs):\n",
        "    if not strs:\n",
        "        return \"\"\n",
        "\n",
        "    min_len = min(len(s) for s in strs)\n",
        "\n",
        "    for i in range(min_len):\n",
        "        char = strs[0][i]\n",
        "        if any(s[i] != char for s in strs[1:]):\n",
        "            return strs[0][:i]\n",
        "\n",
        "    return strs[0][:min_len]\n",
        "my_strings = [\"flower\", \"flow\", \"flight\"]\n",
        "longest_common_prefix(my_strings)"
      ],
      "metadata": {
        "colab": {
          "base_uri": "https://localhost:8080/",
          "height": 36
        },
        "id": "fUVcyY_o06Tk",
        "outputId": "5f755c2a-530e-4de5-eb38-a5a35e5f639e"
      },
      "execution_count": 133,
      "outputs": [
        {
          "output_type": "execute_result",
          "data": {
            "text/plain": [
              "'fl'"
            ],
            "application/vnd.google.colaboratory.intrinsic+json": {
              "type": "string"
            }
          },
          "metadata": {},
          "execution_count": 133
        }
      ]
    },
    {
      "cell_type": "markdown",
      "source": [
        "35. Write a program to check if a given number is a perfect square."
      ],
      "metadata": {
        "id": "C6bd_nPD48XK"
      }
    },
    {
      "cell_type": "code",
      "source": [
        "def perf_sq(num):\n",
        "  sq = num**0.5\n",
        "  if sq*sq==num:\n",
        "    print('is perfect Sq')\n",
        "  else:\n",
        "    print(\"is not perfect Sq\")"
      ],
      "metadata": {
        "id": "FVcKR7ph42PI"
      },
      "execution_count": 140,
      "outputs": []
    },
    {
      "cell_type": "code",
      "source": [
        "perf_sq(25)"
      ],
      "metadata": {
        "colab": {
          "base_uri": "https://localhost:8080/"
        },
        "id": "M9Nppj8j6r9q",
        "outputId": "3b403731-fc97-4ed9-8417-fd8aaca6ced4"
      },
      "execution_count": 141,
      "outputs": [
        {
          "output_type": "stream",
          "name": "stdout",
          "text": [
            "is perfect Sq\n"
          ]
        }
      ]
    },
    {
      "cell_type": "code",
      "source": [
        "perf_sq(23)\n"
      ],
      "metadata": {
        "colab": {
          "base_uri": "https://localhost:8080/"
        },
        "id": "vcHW3P9Q6t9H",
        "outputId": "b8e31f64-bd88-412f-d26b-924009401986"
      },
      "execution_count": 142,
      "outputs": [
        {
          "output_type": "stream",
          "name": "stdout",
          "text": [
            "is not perfect Sq\n"
          ]
        }
      ]
    },
    {
      "cell_type": "markdown",
      "source": [
        "36. Implement a function to calculate the product of all elements in a list."
      ],
      "metadata": {
        "id": "kauKGMf173Yz"
      }
    },
    {
      "cell_type": "code",
      "source": [
        "def pro(ls):\n",
        "  mul = 1\n",
        "  for val in ls:\n",
        "    mul *=val\n",
        "  return mul\n",
        "pro([23,4,5,6,7,8,8])"
      ],
      "metadata": {
        "colab": {
          "base_uri": "https://localhost:8080/"
        },
        "id": "f51ZfXLG65_2",
        "outputId": "a51c436d-058c-444b-ecb9-90dbea40c2a7"
      },
      "execution_count": 143,
      "outputs": [
        {
          "output_type": "execute_result",
          "data": {
            "text/plain": [
              "1236480"
            ]
          },
          "metadata": {},
          "execution_count": 143
        }
      ]
    },
    {
      "cell_type": "markdown",
      "source": [
        "37. Write a Python program to reverse the order of words in a sentence while preserving the word order."
      ],
      "metadata": {
        "id": "Hvy3ONvP8Ir6"
      }
    },
    {
      "cell_type": "code",
      "source": [
        "def reverse_words(sentence):\n",
        "    words = sentence.split()\n",
        "    reversed_words = words[::-1]\n",
        "    reversed_sentence = ' '.join(reversed_words)\n",
        "    return reversed_sentence\n",
        "reverse_words('Write a Python program to reverse the order of words in a sentence while preserving the word order')"
      ],
      "metadata": {
        "colab": {
          "base_uri": "https://localhost:8080/",
          "height": 36
        },
        "id": "IH87BCjV8Fmv",
        "outputId": "4d1d8590-444e-42c0-a4a5-4a6f57b600c5"
      },
      "execution_count": 146,
      "outputs": [
        {
          "output_type": "execute_result",
          "data": {
            "text/plain": [
              "'order word the preserving while sentence a in words of order the reverse to program Python a Write'"
            ],
            "application/vnd.google.colaboratory.intrinsic+json": {
              "type": "string"
            }
          },
          "metadata": {},
          "execution_count": 146
        }
      ]
    },
    {
      "cell_type": "markdown",
      "source": [
        "38. Implement a function to find the missing number in a given list of consecutive numbers."
      ],
      "metadata": {
        "id": "LDM9K3X88o2m"
      }
    },
    {
      "cell_type": "code",
      "source": [
        "def cons(ls):\n",
        "  for i in range(len(ls)-1):\n",
        "    if ls[i]!=ls[i+1]-1:\n",
        "      print(\"missing number is \", ls[i]+1)"
      ],
      "metadata": {
        "id": "-jpFjJvw8bWq"
      },
      "execution_count": 147,
      "outputs": []
    },
    {
      "cell_type": "code",
      "source": [
        "cons([1, 2, 3, 5, 6, 7, 8])"
      ],
      "metadata": {
        "colab": {
          "base_uri": "https://localhost:8080/"
        },
        "id": "ah5pcVRQ9bGo",
        "outputId": "a39af04a-adeb-418a-cd28-8b5f0f3c633e"
      },
      "execution_count": 148,
      "outputs": [
        {
          "output_type": "stream",
          "name": "stdout",
          "text": [
            "missing number is  4\n"
          ]
        }
      ]
    },
    {
      "cell_type": "markdown",
      "source": [
        "39. Write a program to find the sum of digits of a given number."
      ],
      "metadata": {
        "id": "_QiuDyam9l5z"
      }
    },
    {
      "cell_type": "code",
      "source": [
        "def s_dig(num):\n",
        "  sum =0\n",
        "  while num != 0:\n",
        "    rem = num%10\n",
        "    num = num//10\n",
        "\n",
        "    sum += rem\n",
        "  return sum\n",
        "s_dig(12345)"
      ],
      "metadata": {
        "colab": {
          "base_uri": "https://localhost:8080/"
        },
        "id": "ttqc29x99g0-",
        "outputId": "4c4d8767-b5ec-4dad-96be-e70ff921758c"
      },
      "execution_count": 152,
      "outputs": [
        {
          "output_type": "execute_result",
          "data": {
            "text/plain": [
              "15"
            ]
          },
          "metadata": {},
          "execution_count": 152
        }
      ]
    },
    {
      "cell_type": "markdown",
      "source": [
        "40. Implement a function to check if a given string is a valid palindrome considering case sensitivity."
      ],
      "metadata": {
        "id": "401h9h3d-R2R"
      }
    },
    {
      "cell_type": "code",
      "source": [
        "import re\n",
        "def valid_palind(string):\n",
        "    string = re.sub(r'[^a-zA-Z]', '', string).lower()# considering only char dtype\n",
        "    return  string ==  string[::-1]\n",
        "valid_palind('rad12ar@')"
      ],
      "metadata": {
        "colab": {
          "base_uri": "https://localhost:8080/"
        },
        "id": "I5ueU1d_-D2v",
        "outputId": "75a6245b-372d-4ed9-a7ae-4fea3f384f48"
      },
      "execution_count": 163,
      "outputs": [
        {
          "output_type": "execute_result",
          "data": {
            "text/plain": [
              "True"
            ]
          },
          "metadata": {},
          "execution_count": 163
        }
      ]
    },
    {
      "cell_type": "markdown",
      "source": [
        "41. Write a Python program to find the smallest missing positive integer in a list."
      ],
      "metadata": {
        "id": "UaCzfuMVBj3G"
      }
    },
    {
      "cell_type": "code",
      "source": [
        "def smlst_missing(ls):\n",
        "  ls.sort()\n",
        "  sm = ls[0]\n",
        "  for val in ls:\n",
        "    if sm != val-1:\n",
        "      return (\"misssing Num is \", sm+1)\n",
        "  return (\"misssing Num is \", sm-1)\n",
        "smlst_missing([3, 4, 5, 1])"
      ],
      "metadata": {
        "colab": {
          "base_uri": "https://localhost:8080/"
        },
        "id": "Yq0_L1gc-tXZ",
        "outputId": "870e6d73-ef7f-430d-ee0b-fdb6d0bc774a"
      },
      "execution_count": 166,
      "outputs": [
        {
          "output_type": "execute_result",
          "data": {
            "text/plain": [
              "('misssing Num is ', 2)"
            ]
          },
          "metadata": {},
          "execution_count": 166
        }
      ]
    },
    {
      "cell_type": "markdown",
      "source": [
        "\n",
        "42. Implement a function to find the longest palindrome substring in a given string.\n"
      ],
      "metadata": {
        "id": "cYcPVgwWDzd8"
      }
    },
    {
      "cell_type": "code",
      "source": [
        "def longest_palindrome(s):\n",
        "    if len(s) < 2:\n",
        "        return s\n",
        "\n",
        "    start = 0\n",
        "    end = 0\n",
        "\n",
        "    for i in range(len(s)):\n",
        "        len1 = expand_around_center(s, i, i)\n",
        "        len2 = expand_around_center(s, i, i + 1)\n",
        "        max_len = max(len1, len2)\n",
        "\n",
        "        if max_len > end - start:\n",
        "            start = i - (max_len - 1) // 2\n",
        "            end = i + max_len // 2\n",
        "\n",
        "    return s[start:end + 1]\n",
        "\n",
        "\n",
        "def expand_around_center(s, left, right):\n",
        "    while left >= 0 and right < len(s) and s[left] == s[right]:\n",
        "        left -= 1\n",
        "        right += 1\n",
        "\n",
        "    return right - left - 1\n",
        "my_string = \"babad\"\n",
        "longest_palindrome(my_string)"
      ],
      "metadata": {
        "colab": {
          "base_uri": "https://localhost:8080/",
          "height": 36
        },
        "id": "AxoeHtloCzFj",
        "outputId": "1b35b7a4-e7f4-4b22-dcbf-d02a9648f527"
      },
      "execution_count": 167,
      "outputs": [
        {
          "output_type": "execute_result",
          "data": {
            "text/plain": [
              "'aba'"
            ],
            "application/vnd.google.colaboratory.intrinsic+json": {
              "type": "string"
            }
          },
          "metadata": {},
          "execution_count": 167
        }
      ]
    },
    {
      "cell_type": "markdown",
      "source": [
        "\n",
        "43. Write a program to find the number of occurrences of a given element in a list.\n"
      ],
      "metadata": {
        "id": "TWNqMPY-EdOa"
      }
    },
    {
      "cell_type": "code",
      "source": [
        "def countz(ls):\n",
        "  occ = {}\n",
        "  for ele in ls:\n",
        "    if ele in occ:\n",
        "      occ[ele] +=1\n",
        "    else:\n",
        "      occ[ele] =1\n",
        "  return occ\n",
        "countz([12,22,12,33,22,12,12])"
      ],
      "metadata": {
        "colab": {
          "base_uri": "https://localhost:8080/"
        },
        "id": "I2llpRGjEPsr",
        "outputId": "38892050-f0c2-406d-c536-a4b2a525793b"
      },
      "execution_count": 168,
      "outputs": [
        {
          "output_type": "execute_result",
          "data": {
            "text/plain": [
              "{12: 4, 22: 2, 33: 1}"
            ]
          },
          "metadata": {},
          "execution_count": 168
        }
      ]
    },
    {
      "cell_type": "markdown",
      "source": [
        "4. Implement a function to check if a given number is a perfect number."
      ],
      "metadata": {
        "id": "URe5FE5GE90d"
      }
    },
    {
      "cell_type": "code",
      "source": [
        "def is_perfect_num(num):\n",
        "    if num <= 0:\n",
        "        return False\n",
        "\n",
        "    divisors_sum = 0\n",
        "    for i in range(1, num):\n",
        "        if num % i == 0:\n",
        "            divisors_sum += i\n",
        "\n",
        "    return divisors_sum == num\n",
        "is_perfect_num(28)"
      ],
      "metadata": {
        "colab": {
          "base_uri": "https://localhost:8080/"
        },
        "id": "1jV0JB9HEy_s",
        "outputId": "f1e5b366-911a-47c1-e309-3e1f660eb6ba"
      },
      "execution_count": 169,
      "outputs": [
        {
          "output_type": "execute_result",
          "data": {
            "text/plain": [
              "True"
            ]
          },
          "metadata": {},
          "execution_count": 169
        }
      ]
    },
    {
      "cell_type": "markdown",
      "source": [
        "\n",
        "45. Write a Python program to remove all duplicates from a string.\n",
        "\n",
        "all ready done above"
      ],
      "metadata": {
        "id": "JGKLfATDFg6L"
      }
    },
    {
      "cell_type": "markdown",
      "source": [
        "46. Implement a function to find the first missing positive"
      ],
      "metadata": {
        "id": "Yb34DNfoF4gn"
      }
    },
    {
      "cell_type": "code",
      "source": [
        "def smlst_missing(ls):\n",
        "  ls.sort()\n",
        "  sm = ls[0]\n",
        "  for val in ls:\n",
        "    if sm != val-1:\n",
        "      return (\"misssing Num is \", sm+1)\n",
        "smlst_missing([3, 4, 5, 1])"
      ],
      "metadata": {
        "colab": {
          "base_uri": "https://localhost:8080/"
        },
        "id": "dg7GuSv6FUAV",
        "outputId": "27acac66-f635-47b4-9ce4-a3be62a1c177"
      },
      "execution_count": 170,
      "outputs": [
        {
          "output_type": "execute_result",
          "data": {
            "text/plain": [
              "('misssing Num is ', 2)"
            ]
          },
          "metadata": {},
          "execution_count": 170
        }
      ]
    },
    {
      "cell_type": "code",
      "source": [],
      "metadata": {
        "id": "JqqPKMCRGNlg"
      },
      "execution_count": null,
      "outputs": []
    }
  ]
}